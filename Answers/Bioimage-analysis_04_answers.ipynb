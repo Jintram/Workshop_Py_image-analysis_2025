{
 "cells": [
  {
   "cell_type": "markdown",
   "id": "56efa91d",
   "metadata": {},
   "source": [
    "# Workshop Python Image Analysis\n",
    "*Martijn Wehrens, September 2025*\n",
    "\n"
   ]
  },
  {
   "cell_type": "code",
   "execution_count": null,
   "id": "7d6e3ded",
   "metadata": {},
   "outputs": [],
   "source": [
    "# The following parameters will detect more white cars:\n",
    "MIN_SIZE1 = 400; DISK_SIZE=4; MIN_SIZE2=300 "
   ]
  },
  {
   "cell_type": "code",
   "execution_count": 1,
   "id": "90b782ee",
   "metadata": {},
   "outputs": [
    {
     "name": "stdout",
     "output_type": "stream",
     "text": [
      "Sequence: ATGCGTATAGCTAGCTAGGCTA\n",
      "  GC content: 0.45\n",
      "  Reverse complement: TAGCCTAGCTAGCTATACGCAT\n",
      "\n",
      "Sequence: GGGGCCCCAAAA\n",
      "  GC content: 0.67\n",
      "  Reverse complement: TTTTGGGGCCCC\n",
      "\n",
      "Sequence: ATATATATAT\n",
      "  GC content: 0.00\n",
      "  Reverse complement: ATATATATAT\n",
      "\n"
     ]
    }
   ],
   "source": [
    "def gc_content(seq: str) -> float:\n",
    "    \"\"\"Return GC content as a fraction of sequence length.\"\"\"\n",
    "    gc_count = sum(1 for base in seq if base in [\"G\", \"C\"])\n",
    "    return gc_count / len(seq)\n",
    "\n",
    "\n",
    "def reverse_complement(seq: str) -> str:\n",
    "    \"\"\"Return the reverse complement of a DNA sequence.\"\"\"\n",
    "    complement = {\"A\": \"T\", \"T\": \"A\", \"G\": \"C\", \"C\": \"G\"}\n",
    "    return \"\".join(complement[base] for base in reversed(seq))\n",
    "\n",
    "\n",
    "# Now we can reuse the functions on multiple sequences\n",
    "sequences = [\n",
    "    \"ATGCGTATAGCTAGCTAGGCTA\",\n",
    "    \"GGGGCCCCAAAA\",\n",
    "    \"ATATATATAT\",\n",
    "]\n",
    "\n",
    "for s in sequences:\n",
    "    print(f\"Sequence: {s}\")\n",
    "    print(f\"  GC content: {gc_content(s):.2f}\")\n",
    "    print(f\"  Reverse complement: {reverse_complement(s)}\")\n",
    "    print()"
   ]
  },
  {
   "cell_type": "markdown",
   "id": "ee8b57fe",
   "metadata": {},
   "source": [
    "## Answers to exercises 03"
   ]
  },
  {
   "cell_type": "code",
   "execution_count": null,
   "id": "9842340c",
   "metadata": {},
   "outputs": [],
   "source": [
    "img_path = 'images/car/chatGPT_shadybusiness_zoomlow-8bit.tif'\n",
    "img_carpark = tiff.imread(img_path)\n",
    "\n",
    "# threshold such that dark features in the image are selected\n",
    "thresh = np.percentile(img_carpark,20)\n",
    "img_carpark_bin = img_carpark < thresh\n",
    "# select areas that are larger than 500 pixels\n",
    "img_carpark_bin = sk.morphology.remove_small_objects(img_carpark_bin, min_size=2000)\n",
    "# apply moprhological closing\n",
    "img_carpark_bin = sk.morphology.binary_opening(img_carpark_bin, footprint=sk.morphology.disk(4))\n",
    "# 2nd size selection\n",
    "img_carpark_bin = sk.morphology.remove_small_objects(img_carpark_bin, min_size=1000)\n",
    "# get bbox\n",
    "labeled_img, n_labels = ndimage.label(img_carpark_bin)\n",
    "# highlight the result\n",
    "plt.imshow(img_carpark, cmap='gray')\n",
    "#plt.contour(img_carpark_bin, colors='r', linewidths=0.5, levels=[0.5])\n",
    "# bbox\n",
    "for region in sk.measure.regionprops(labeled_img):\n",
    "    minr, minc, maxr, maxc = region.bbox\n",
    "    rect = plt.Rectangle((minc, minr), maxc - minc, maxr - minr,\n",
    "                         fill=False, edgecolor='blue', linewidth=1)\n",
    "    plt.gca().add_patch(rect)"
   ]
  }
 ],
 "metadata": {
  "kernelspec": {
   "display_name": "2025_IMG",
   "language": "python",
   "name": "python3"
  },
  "language_info": {
   "codemirror_mode": {
    "name": "ipython",
    "version": 3
   },
   "file_extension": ".py",
   "mimetype": "text/x-python",
   "name": "python",
   "nbconvert_exporter": "python",
   "pygments_lexer": "ipython3",
   "version": "3.12.8"
  }
 },
 "nbformat": 4,
 "nbformat_minor": 5
}
