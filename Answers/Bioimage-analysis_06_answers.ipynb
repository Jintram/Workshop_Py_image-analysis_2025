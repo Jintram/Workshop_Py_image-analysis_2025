{
 "cells": [
  {
   "cell_type": "markdown",
   "id": "56efa91d",
   "metadata": {},
   "source": [
    "# Workshop Python Image Analysis\n",
    "*Martijn Wehrens, September 2025*\n",
    "\n"
   ]
  },
  {
   "cell_type": "markdown",
   "id": "2f481f00",
   "metadata": {},
   "source": [
    "<font color=red size=8>\n",
    "To do finish this!\n",
    "\n",
    "Code below is random!\n",
    "</font>"
   ]
  },
  {
   "cell_type": "markdown",
   "id": "ee8b57fe",
   "metadata": {},
   "source": [
    "## Answers to exercises 03"
   ]
  },
  {
   "cell_type": "code",
   "execution_count": null,
   "id": "9842340c",
   "metadata": {},
   "outputs": [],
   "source": [
    "img_path = 'images/car/chatGPT_shadybusiness_zoomlow-8bit.tif'\n",
    "img_carpark = tiff.imread(img_path)\n",
    "\n",
    "# threshold such that dark features in the image are selected\n",
    "thresh = np.percentile(img_carpark,20)\n",
    "img_carpark_bin = img_carpark < thresh\n",
    "# select areas that are larger than 500 pixels\n",
    "img_carpark_bin = sk.morphology.remove_small_objects(img_carpark_bin, min_size=2000)\n",
    "# apply moprhological closing\n",
    "img_carpark_bin = sk.morphology.binary_opening(img_carpark_bin, footprint=sk.morphology.disk(4))\n",
    "# 2nd size selection\n",
    "img_carpark_bin = sk.morphology.remove_small_objects(img_carpark_bin, min_size=1000)\n",
    "# get bbox\n",
    "labeled_img, n_labels = ndimage.label(img_carpark_bin)\n",
    "# highlight the result\n",
    "plt.imshow(img_carpark, cmap='gray')\n",
    "#plt.contour(img_carpark_bin, colors='r', linewidths=0.5, levels=[0.5])\n",
    "# bbox\n",
    "for region in sk.measure.regionprops(labeled_img):\n",
    "    minr, minc, maxr, maxc = region.bbox\n",
    "    rect = plt.Rectangle((minc, minr), maxc - minc, maxr - minr,\n",
    "                         fill=False, edgecolor='blue', linewidth=1)\n",
    "    plt.gca().add_patch(rect)"
   ]
  }
 ],
 "metadata": {
  "kernelspec": {
   "display_name": "2025_IMG",
   "language": "python",
   "name": "python3"
  },
  "language_info": {
   "codemirror_mode": {
    "name": "ipython",
    "version": 3
   },
   "file_extension": ".py",
   "mimetype": "text/x-python",
   "name": "python",
   "nbconvert_exporter": "python",
   "pygments_lexer": "ipython3",
   "version": "3.12.8"
  }
 },
 "nbformat": 4,
 "nbformat_minor": 5
}
