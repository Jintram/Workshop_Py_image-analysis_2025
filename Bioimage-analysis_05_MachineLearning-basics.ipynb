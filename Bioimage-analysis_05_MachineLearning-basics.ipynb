{
 "cells": [
  {
   "cell_type": "markdown",
   "id": "56efa91d",
   "metadata": {},
   "source": [
    "# Workshop Python Image Analysis\n",
    "*Martijn Wehrens, September 2025*\n",
    "\n",
    "**Estimated time:** XX mins presenting + YY mins exercises\n",
    "\n",
    "## Chapter 5: A very basic introduction into machine learning"
   ]
  },
  {
   "cell_type": "markdown",
   "id": "9ef6f976",
   "metadata": {},
   "source": [
    "<font face='Times New Roman' color=red>This notebook will probably need to be run on Google colab or the like, as laptops might not have the right architecture to run this.</font>"
   ]
  },
  {
   "cell_type": "code",
   "execution_count": 14,
   "id": "a8a7a54f",
   "metadata": {},
   "outputs": [],
   "source": [
    "import torch\n",
    "from torch import nn\n",
    "\n",
    "from torch.utils.data import Dataset\n",
    "\n",
    "import numpy as np\n",
    "\n",
    "import tifffile as tiff\n",
    "import matplotlib.pyplot as plt"
   ]
  },
  {
   "cell_type": "code",
   "execution_count": 2,
   "id": "f2f90376",
   "metadata": {},
   "outputs": [
    {
     "name": "stdout",
     "output_type": "stream",
     "text": [
      "tensor([[-0.1407, -0.3204]], device='mps:0', grad_fn=<LinearBackward0>)\n"
     ]
    }
   ],
   "source": [
    "# This code defines a VERY simple model for 12x12 pixels\n",
    "\n",
    "class VerySimpleNN(nn.Module):\n",
    "    def __init__(self):\n",
    "        super().__init__()\n",
    "        self.flatten = nn.Flatten()\n",
    "        self.linear = nn.Linear(12*12, 2)\n",
    "\n",
    "    def forward(self, x):\n",
    "        x = self.flatten(x)\n",
    "        logits = self.linear(x)\n",
    "        return logits\n",
    "\n",
    "# now test the neural network\n",
    "simpleNN = VerySimpleNN().to('mps')\n",
    "test_data = torch.rand(1, 12, 12, device='mps')  # random 12x12 image\n",
    "pred = simpleNN(test_data)\n",
    "print(pred)"
   ]
  },
  {
   "cell_type": "code",
   "execution_count": 3,
   "id": "13ea3444",
   "metadata": {},
   "outputs": [
    {
     "name": "stdout",
     "output_type": "stream",
     "text": [
      "[-0.14070532  0.00448395]\n"
     ]
    }
   ],
   "source": [
    "# Now acquire the weights\n",
    "weights = simpleNN.linear.weight.detach().cpu().numpy()\n",
    "bias    = simpleNN.linear.bias.detach().cpu().numpy()\n",
    "# print(weights)\n",
    "# \n",
    "test_data_np = test_data.cpu().numpy().flatten()\n",
    "# print(test_data_np)\n",
    "# And manually calculate the outcome\n",
    "outcome = np.sum(test_data_np*weights[0]) + bias\n",
    "print(outcome)"
   ]
  },
  {
   "cell_type": "code",
   "execution_count": 26,
   "id": "158441ff",
   "metadata": {},
   "outputs": [],
   "source": [
    "\n",
    "# test_data_np.flatten()\n",
    "# weights[0]"
   ]
  },
  {
   "cell_type": "code",
   "execution_count": 4,
   "id": "1909f682",
   "metadata": {},
   "outputs": [
    {
     "data": {
      "text/plain": [
       "np.float32(-0.07321869)"
      ]
     },
     "execution_count": 4,
     "metadata": {},
     "output_type": "execute_result"
    }
   ],
   "source": [
    "np.sum(test_data_np.flatten()*weights[0])"
   ]
  },
  {
   "cell_type": "code",
   "execution_count": 5,
   "id": "4cd858d8",
   "metadata": {},
   "outputs": [
    {
     "data": {
      "image/png": "[encoded data removed]",
      "text/plain": [
       "<Figure size 118.11x118.11 with 1 Axes>"
      ]
     },
     "metadata": {},
     "output_type": "display_data"
    }
   ],
   "source": [
    "# Now define a data class, which actually only produces two pictures, \n",
    "# either a happy or sad emoji, together with annotation\n",
    "\n",
    "# Two image paths\n",
    "img_happy_path = '/Users/m.wehrens/Documents/git_repos/_UVA/2025_teaching_Py_image-analysis/Workshop_Py_image-analysis_2025/images/ML/smile.tif'\n",
    "img_sad_path   = '/Users/m.wehrens/Documents/git_repos/_UVA/2025_teaching_Py_image-analysis/Workshop_Py_image-analysis_2025/images/ML/sad.tif'\n",
    "img_sad2_path   = '/Users/m.wehrens/Documents/git_repos/_UVA/2025_teaching_Py_image-analysis/Workshop_Py_image-analysis_2025/images/ML/sad2.tif'\n",
    "\n",
    "# Load images\n",
    "img_happy = tiff.imread(img_happy_path)\n",
    "img_sad   = tiff.imread(img_sad_path)\n",
    "img_sad2  = tiff.imread(img_sad2_path)\n",
    "\n",
    "# Show one image\n",
    "fig, ax = plt.subplots(1,1, figsize=(3/2.54, 3/2.54))\n",
    "_=ax.imshow(img_happy)"
   ]
  },
  {
   "cell_type": "code",
   "execution_count": 6,
   "id": "3eef6ad5",
   "metadata": {},
   "outputs": [],
   "source": [
    "class Data_HappySad(Dataset):\n",
    "    \n",
    "    def __init__(self, targetdevice=\"mps\",):\n",
    "        \n",
    "        self.targetdevice = targetdevice\n",
    "        \n",
    "        # Data and its labels, 0 = happy, 1 = sad\n",
    "        self.data   = torch.tensor([img_happy, img_sad, img_sad2], \n",
    "                                   dtype=torch.float32)\n",
    "        self.label  = torch.tensor([0        , 1,       1], \n",
    "                                   dtype=torch.long)\n",
    "        \n",
    "        # Normalize images\n",
    "        self.data = self.data / 255.0\n",
    "    \n",
    "    def __len__(self):\n",
    "        \n",
    "        return len(self.data)\n",
    "    \n",
    "    def __getitem__(self, idx):\n",
    "        \n",
    "        return self.data[idx].to(self.targetdevice), self.label[idx].to(self.targetdevice)\n",
    "        \n",
    "        "
   ]
  },
  {
   "cell_type": "code",
   "execution_count": 54,
   "id": "863af927",
   "metadata": {},
   "outputs": [],
   "source": [
    "my_data_happysad = Data_HappySad()\n",
    "my_data_happysad_loader = torch.utils.data.DataLoader(my_data_happysad, \n",
    "                                                      batch_size=3, shuffle=False)\n",
    "\n",
    "my_simple_model  = VerySimpleNN().to('mps')"
   ]
  },
  {
   "cell_type": "code",
   "execution_count": 38,
   "id": "e891c8b2",
   "metadata": {},
   "outputs": [
    {
     "data": {
      "text/plain": [
       "(tensor([[0., 0., 0., 0., 0., 0., 0., 0., 0., 0., 0., 0.],\n",
       "         [0., 0., 0., 1., 1., 1., 1., 1., 1., 0., 0., 0.],\n",
       "         [0., 0., 1., 0., 0., 0., 0., 0., 0., 1., 0., 0.],\n",
       "         [0., 1., 0., 0., 0., 0., 0., 0., 0., 0., 1., 0.],\n",
       "         [0., 1., 0., 0., 1., 0., 0., 1., 0., 0., 1., 0.],\n",
       "         [0., 1., 0., 0., 1., 0., 0., 1., 0., 0., 1., 0.],\n",
       "         [0., 1., 0., 0., 0., 0., 0., 0., 0., 0., 1., 0.],\n",
       "         [0., 1., 0., 1., 0., 0., 0., 0., 1., 0., 1., 0.],\n",
       "         [0., 1., 0., 1., 0., 0., 0., 0., 1., 0., 1., 0.],\n",
       "         [0., 1., 0., 0., 1., 1., 1., 1., 0., 0., 1., 0.],\n",
       "         [0., 0., 1., 0., 0., 0., 0., 0., 0., 1., 0., 0.],\n",
       "         [0., 0., 0., 1., 1., 1., 1., 1., 1., 0., 0., 0.]], device='mps:0'),\n",
       " tensor(0, device='mps:0'))"
      ]
     },
     "execution_count": 38,
     "metadata": {},
     "output_type": "execute_result"
    }
   ],
   "source": [
    "my_data_happysad.__getitem__(0)"
   ]
  },
  {
   "cell_type": "markdown",
   "id": "7b8f9396",
   "metadata": {},
   "source": []
  },
  {
   "cell_type": "code",
   "execution_count": 55,
   "id": "cc05863a",
   "metadata": {},
   "outputs": [
    {
     "name": "stdout",
     "output_type": "stream",
     "text": [
      "epoch = 0 batch = 0 , loss =  0.6953480243682861\n",
      "epoch = 1 batch = 0 , loss =  0.5960262417793274\n",
      "epoch = 2 batch = 0 , loss =  0.5735462307929993\n",
      "epoch = 3 batch = 0 , loss =  0.537868320941925\n",
      "epoch = 4 batch = 0 , loss =  0.4851878881454468\n",
      "epoch = 5 batch = 0 , loss =  0.43704208731651306\n",
      "epoch = 6 batch = 0 , loss =  0.40532758831977844\n",
      "epoch = 7 batch = 0 , loss =  0.3844977915287018\n",
      "epoch = 8 batch = 0 , loss =  0.36175569891929626\n",
      "epoch = 9 batch = 0 , loss =  0.3333442509174347\n",
      "epoch = 10 batch = 0 , loss =  0.30404040217399597\n",
      "epoch = 11 batch = 0 , loss =  0.2791636288166046\n",
      "epoch = 12 batch = 0 , loss =  0.2603031098842621\n",
      "epoch = 13 batch = 0 , loss =  0.24544024467468262\n",
      "epoch = 14 batch = 0 , loss =  0.23150841891765594\n",
      "epoch = 15 batch = 0 , loss =  0.21680355072021484\n",
      "epoch = 16 batch = 0 , loss =  0.2015841156244278\n",
      "epoch = 17 batch = 0 , loss =  0.18716756999492645\n",
      "epoch = 18 batch = 0 , loss =  0.17470116913318634\n",
      "epoch = 19 batch = 0 , loss =  0.16444872319698334\n",
      "epoch = 20 batch = 0 , loss =  0.15582464635372162\n",
      "epoch = 21 batch = 0 , loss =  0.1479276418685913\n",
      "epoch = 22 batch = 0 , loss =  0.1401069164276123\n",
      "epoch = 23 batch = 0 , loss =  0.13221579790115356\n",
      "epoch = 24 batch = 0 , loss =  0.12450885027647018\n",
      "epoch = 25 batch = 0 , loss =  0.1173635721206665\n",
      "epoch = 26 batch = 0 , loss =  0.11103200912475586\n",
      "epoch = 27 batch = 0 , loss =  0.10553526878356934\n",
      "epoch = 28 batch = 0 , loss =  0.10070083290338516\n",
      "epoch = 29 batch = 0 , loss =  0.09627998620271683\n",
      "epoch = 30 batch = 0 , loss =  0.09206587076187134\n",
      "epoch = 31 batch = 0 , loss =  0.08795979619026184\n",
      "epoch = 32 batch = 0 , loss =  0.0839722529053688\n",
      "epoch = 33 batch = 0 , loss =  0.08017753809690475\n",
      "epoch = 34 batch = 0 , loss =  0.07665646076202393\n",
      "epoch = 35 batch = 0 , loss =  0.07345365732908249\n",
      "epoch = 36 batch = 0 , loss =  0.07056251913309097\n",
      "epoch = 37 batch = 0 , loss =  0.0679350420832634\n",
      "epoch = 38 batch = 0 , loss =  0.06550466269254684\n",
      "epoch = 39 batch = 0 , loss =  0.06321059167385101\n",
      "epoch = 40 batch = 0 , loss =  0.06101307272911072\n",
      "epoch = 41 batch = 0 , loss =  0.05889791622757912\n",
      "epoch = 42 batch = 0 , loss =  0.05687109753489494\n",
      "epoch = 43 batch = 0 , loss =  0.05494802072644234\n",
      "epoch = 44 batch = 0 , loss =  0.05314279720187187\n",
      "epoch = 45 batch = 0 , loss =  0.051461562514305115\n",
      "epoch = 46 batch = 0 , loss =  0.04989982023835182\n",
      "epoch = 47 batch = 0 , loss =  0.04844440892338753\n",
      "epoch = 48 batch = 0 , loss =  0.04707775637507439\n",
      "epoch = 49 batch = 0 , loss =  0.04578254744410515\n",
      "epoch = 50 batch = 0 , loss =  0.044545214623212814\n",
      "epoch = 51 batch = 0 , loss =  0.043357621878385544\n",
      "epoch = 52 batch = 0 , loss =  0.042216747999191284\n",
      "epoch = 53 batch = 0 , loss =  0.041123226284980774\n",
      "epoch = 54 batch = 0 , loss =  0.040079038590192795\n",
      "epoch = 55 batch = 0 , loss =  0.03908570110797882\n",
      "epoch = 56 batch = 0 , loss =  0.03814321383833885\n",
      "epoch = 57 batch = 0 , loss =  0.03724931553006172\n",
      "epoch = 58 batch = 0 , loss =  0.03640000894665718\n",
      "epoch = 59 batch = 0 , loss =  0.03559049963951111\n",
      "epoch = 60 batch = 0 , loss =  0.03481583669781685\n",
      "epoch = 61 batch = 0 , loss =  0.03407173603773117\n",
      "epoch = 62 batch = 0 , loss =  0.03335500881075859\n",
      "epoch = 63 batch = 0 , loss =  0.03266366198658943\n",
      "epoch = 64 batch = 0 , loss =  0.031996600329875946\n",
      "epoch = 65 batch = 0 , loss =  0.03135347738862038\n",
      "epoch = 66 batch = 0 , loss =  0.03073401190340519\n",
      "epoch = 67 batch = 0 , loss =  0.030138010159134865\n",
      "epoch = 68 batch = 0 , loss =  0.029564673081040382\n",
      "epoch = 69 batch = 0 , loss =  0.02901306189596653\n",
      "epoch = 70 batch = 0 , loss =  0.02848181128501892\n",
      "epoch = 71 batch = 0 , loss =  0.0279694851487875\n",
      "epoch = 72 batch = 0 , loss =  0.02747446298599243\n",
      "epoch = 73 batch = 0 , loss =  0.026995470747351646\n",
      "epoch = 74 batch = 0 , loss =  0.026531314477324486\n",
      "epoch = 75 batch = 0 , loss =  0.026081180199980736\n",
      "epoch = 76 batch = 0 , loss =  0.02564437873661518\n",
      "epoch = 77 batch = 0 , loss =  0.025220418348908424\n",
      "epoch = 78 batch = 0 , loss =  0.024808987975120544\n",
      "epoch = 79 batch = 0 , loss =  0.02440965734422207\n",
      "epoch = 80 batch = 0 , loss =  0.024022124707698822\n",
      "epoch = 81 batch = 0 , loss =  0.023645931854844093\n",
      "epoch = 82 batch = 0 , loss =  0.02328070066869259\n",
      "epoch = 83 batch = 0 , loss =  0.022925755009055138\n",
      "epoch = 84 batch = 0 , loss =  0.02258075773715973\n",
      "epoch = 85 batch = 0 , loss =  0.022244995459914207\n",
      "epoch = 86 batch = 0 , loss =  0.02191813476383686\n",
      "epoch = 87 batch = 0 , loss =  0.021599620580673218\n",
      "epoch = 88 batch = 0 , loss =  0.021289190277457237\n",
      "epoch = 89 batch = 0 , loss =  0.02098647691309452\n",
      "epoch = 90 batch = 0 , loss =  0.02069118618965149\n",
      "epoch = 91 batch = 0 , loss =  0.020403094589710236\n",
      "epoch = 92 batch = 0 , loss =  0.02012198604643345\n",
      "epoch = 93 batch = 0 , loss =  0.019847681745886803\n",
      "epoch = 94 batch = 0 , loss =  0.019579917192459106\n",
      "epoch = 95 batch = 0 , loss =  0.01931847259402275\n",
      "epoch = 96 batch = 0 , loss =  0.01906316727399826\n",
      "epoch = 97 batch = 0 , loss =  0.01881369762122631\n",
      "epoch = 98 batch = 0 , loss =  0.01856991834938526\n",
      "epoch = 99 batch = 0 , loss =  0.018331564962863922\n"
     ]
    }
   ],
   "source": [
    "# now make a simple train loop\n",
    "loss_fn = torch.nn.CrossEntropyLoss()\n",
    "optimizer = torch.optim.Adam(my_simple_model.parameters(), lr=.01)\n",
    "\n",
    "# set model to training mode\n",
    "my_simple_model.train()\n",
    "\n",
    "gradient_list = [] # only for illustratory purposes\n",
    "for epoch_idx in range(100):\n",
    "    \n",
    "    for b_idx, (X,y) in enumerate(my_data_happysad_loader): \n",
    "    \n",
    "        pred = my_simple_model(X)\n",
    "        loss = loss_fn(pred, y)\n",
    "        \n",
    "        loss.backward() # compute gradients\n",
    "                \n",
    "        # get the gradients as array (for illustratory purposes)\n",
    "        gradients = my_simple_model.linear.weight.grad.detach().cpu().numpy()\n",
    "        gradient_list.append(gradients)\n",
    "        \n",
    "        optimizer.step() # apply gradients\n",
    "        optimizer.zero_grad() # reset gradients\n",
    "    \n",
    "        print('epoch =', epoch_idx, 'batch =',b_idx,', loss = ', loss.item())#, 'X.shape=', X.shape)\n",
    "        \n",
    "\n",
    "    \n",
    "    "
   ]
  },
  {
   "cell_type": "code",
   "execution_count": 63,
   "id": "64879a63",
   "metadata": {},
   "outputs": [
    {
     "data": {
      "text/plain": [
       "<matplotlib.image.AxesImage at 0x30f3d92b0>"
      ]
     },
     "execution_count": 63,
     "metadata": {},
     "output_type": "execute_result"
    },
    {
     "data": {
      "image/png": "[encoded data removed]",
      "text/plain": [
       "<Figure size 472.441x236.22 with 2 Axes>"
      ]
     },
     "metadata": {},
     "output_type": "display_data"
    }
   ],
   "source": [
    "# now retrieve the weights\n",
    "weights = my_simple_model.linear.weight.detach().cpu().numpy()\n",
    "\n",
    "# visualize the weights\n",
    "fig, axs = plt.subplots(1,2, figsize=(12/2.54, 6/2.54))\n",
    "axs[0].imshow(weights[0].reshape(12,12), cmap='gray')\n",
    "axs[1].imshow(weights[1].reshape(12,12), cmap='gray')\n"
   ]
  },
  {
   "cell_type": "code",
   "execution_count": 58,
   "id": "6cc3f090",
   "metadata": {},
   "outputs": [
    {
     "data": {
      "image/png": "[encoded data removed]",
      "text/plain": [
       "<Figure size 472.441x236.22 with 6 Axes>"
      ]
     },
     "metadata": {},
     "output_type": "display_data"
    }
   ],
   "source": [
    "# show the first and second gradients\n",
    "fig, axs = plt.subplots(2,3, figsize=(12/2.54, 6/2.54))\n",
    "_=axs[0,0].imshow(gradient_list[0][0].reshape(12,12))\n",
    "_=axs[0,1].imshow(gradient_list[1][0].reshape(12,12))\n",
    "_=axs[0,2].imshow(gradient_list[2][0].reshape(12,12))\n",
    "_=axs[1,0].imshow(gradient_list[3][0].reshape(12,12))\n",
    "_=axs[1,1].imshow(gradient_list[4][0].reshape(12,12))\n",
    "_=axs[1,2].imshow(gradient_list[5][0].reshape(12,12))"
   ]
  },
  {
   "cell_type": "code",
   "execution_count": 59,
   "id": "73fcb5c1",
   "metadata": {},
   "outputs": [
    {
     "name": "stdout",
     "output_type": "stream",
     "text": [
      "100\n"
     ]
    },
    {
     "data": {
      "text/plain": [
       "(12, 12)"
      ]
     },
     "execution_count": 59,
     "metadata": {},
     "output_type": "execute_result"
    }
   ],
   "source": [
    "print(len(gradient_list))\n",
    "gradient_list[0].shape\n",
    "gradient_list[4][0].reshape((12,12)).shape"
   ]
  },
  {
   "cell_type": "code",
   "execution_count": 60,
   "id": "edea5da0",
   "metadata": {},
   "outputs": [
    {
     "name": "stdout",
     "output_type": "stream",
     "text": [
      "X1= tensor([[ 2.0890, -1.5107]], device='mps:0', grad_fn=<LinearBackward0>)\n",
      "X12 tensor([[-1.6538,  2.0169]], device='mps:0', grad_fn=<LinearBackward0>)\n",
      "X3= tensor([[-2.6456,  3.4767]], device='mps:0', grad_fn=<LinearBackward0>)\n"
     ]
    }
   ],
   "source": [
    "# apply the model to image 1\n",
    "X1 = my_data_happysad.__getitem__(0)[0].unsqueeze(0)\n",
    "pred = my_simple_model(X1)\n",
    "print('X1=', pred)\n",
    "# and to image 2\n",
    "X2 = my_data_happysad.__getitem__(1)[0].unsqueeze(0)\n",
    "pred = my_simple_model(X2)\n",
    "print('X12', pred)\n",
    "# and to image 3\n",
    "X3 = my_data_happysad.__getitem__(2)[0].unsqueeze(0)\n",
    "pred = my_simple_model(X3)\n",
    "print('X3=', pred)"
   ]
  },
  {
   "cell_type": "code",
   "execution_count": 61,
   "id": "54d7dfb6",
   "metadata": {},
   "outputs": [],
   "source": [
    "# Doesn't seem to work ??\n",
    "# from torchsummary import summary\n",
    "# summary(my_simple_model, input_size=(12,12))"
   ]
  },
  {
   "cell_type": "code",
   "execution_count": 62,
   "id": "9476d310",
   "metadata": {},
   "outputs": [
    {
     "data": {
      "text/plain": [
       "290"
      ]
     },
     "execution_count": 62,
     "metadata": {},
     "output_type": "execute_result"
    }
   ],
   "source": [
    "# There should be 12x12 + 1 + 12x12 + 1 = 290 model parameters\n",
    "sum(p.numel() for p in my_simple_model.parameters() if p.requires_grad)"
   ]
  },
  {
   "cell_type": "code",
   "execution_count": null,
   "id": "378c437f",
   "metadata": {},
   "outputs": [],
   "source": []
  }
 ],
 "metadata": {
  "kernelspec": {
   "display_name": "2025_pytorch2",
   "language": "python",
   "name": "python3"
  },
  "language_info": {
   "codemirror_mode": {
    "name": "ipython",
    "version": 3
   },
   "file_extension": ".py",
   "mimetype": "text/x-python",
   "name": "python",
   "nbconvert_exporter": "python",
   "pygments_lexer": "ipython3",
   "version": "3.12.8"
  }
 },
 "nbformat": 4,
 "nbformat_minor": 5
}
