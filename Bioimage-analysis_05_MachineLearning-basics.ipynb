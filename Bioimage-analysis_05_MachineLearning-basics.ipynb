{
 "cells": [
  {
   "cell_type": "markdown",
   "id": "56efa91d",
   "metadata": {},
   "source": [
    "# Workshop Python Image Analysis\n",
    "*Martijn Wehrens, September 2025*\n",
    "\n",
    "**Estimated time:** XX mins presenting + YY mins exercises\n",
    "\n",
    "## Chapter 5: A very basic introduction into machine learning"
   ]
  },
  {
   "cell_type": "markdown",
   "id": "9ef6f976",
   "metadata": {},
   "source": [
    "<font face='Times New Roman' color=red>This notebook will probably need to be run on Google colab or the like, as laptops might not have the right architecture to run this.</font>"
   ]
  },
  {
   "cell_type": "code",
   "execution_count": 12,
   "id": "a8a7a54f",
   "metadata": {},
   "outputs": [],
   "source": [
    "import torch\n",
    "from torch import nn\n",
    "\n",
    "import numpy as np"
   ]
  },
  {
   "cell_type": "code",
   "execution_count": 34,
   "id": "f2f90376",
   "metadata": {},
   "outputs": [
    {
     "name": "stdout",
     "output_type": "stream",
     "text": [
      "tensor([[-0.4479]], device='mps:0', grad_fn=<LinearBackward0>)\n"
     ]
    }
   ],
   "source": [
    "# This code defines a VERY simple model for 12x12 pixels\n",
    "\n",
    "class VerySimpleNN(nn.Module):\n",
    "    def __init__(self):\n",
    "        super().__init__()\n",
    "        self.flatten = nn.Flatten()\n",
    "        self.linear = nn.Linear(12*12, 1)\n",
    "\n",
    "    def forward(self, x):\n",
    "        x = self.flatten(x)\n",
    "        logits = self.linear(x)\n",
    "        return logits\n",
    "\n",
    "# now test the neural network\n",
    "simpleNN = VerySimpleNN().to('mps')\n",
    "test_data = torch.rand(1, 12, 12, device='mps')  # random 12x12 image\n",
    "pred = simpleNN(test_data)\n",
    "print(pred)"
   ]
  },
  {
   "cell_type": "code",
   "execution_count": null,
   "id": "13ea3444",
   "metadata": {},
   "outputs": [
    {
     "name": "stdout",
     "output_type": "stream",
     "text": [
      "[-0.44785488]\n"
     ]
    }
   ],
   "source": [
    "# Now acquire the weights\n",
    "weights = simpleNN.linear.weight.detach().cpu().numpy()\n",
    "bias    = simpleNN.linear.bias.detach().cpu().numpy()\n",
    "# print(weights)\n",
    "# \n",
    "test_data_np = test_data.cpu().numpy().flatten()\n",
    "# print(test_data_np)\n",
    "# And manually calculate the outcome\n",
    "outcome = np.sum(test_data_np*weights[0]) + bias\n",
    "print(outcome)"
   ]
  },
  {
   "cell_type": "code",
   "execution_count": 26,
   "id": "158441ff",
   "metadata": {},
   "outputs": [],
   "source": [
    "\n",
    "# test_data_np.flatten()\n",
    "# weights[0]"
   ]
  },
  {
   "cell_type": "code",
   "execution_count": 25,
   "id": "1909f682",
   "metadata": {},
   "outputs": [
    {
     "data": {
      "text/plain": [
       "np.float32(-0.3135873)"
      ]
     },
     "execution_count": 25,
     "metadata": {},
     "output_type": "execute_result"
    }
   ],
   "source": [
    "np.sum(test_data_np.flatten()*weights[0])"
   ]
  },
  {
   "cell_type": "markdown",
   "id": "7b8f9396",
   "metadata": {},
   "source": []
  }
 ],
 "metadata": {
  "kernelspec": {
   "display_name": "2025_pytorch2",
   "language": "python",
   "name": "python3"
  },
  "language_info": {
   "codemirror_mode": {
    "name": "ipython",
    "version": 3
   },
   "file_extension": ".py",
   "mimetype": "text/x-python",
   "name": "python",
   "nbconvert_exporter": "python",
   "pygments_lexer": "ipython3",
   "version": "3.12.8"
  }
 },
 "nbformat": 4,
 "nbformat_minor": 5
}
