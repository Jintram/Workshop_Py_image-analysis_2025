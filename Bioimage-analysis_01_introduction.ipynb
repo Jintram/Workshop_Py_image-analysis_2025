{
 "cells": [
  {
   "cell_type": "markdown",
   "id": "56efa91d",
   "metadata": {},
   "source": [
    "# Workshop Python Image Analysis\n",
    "*Martijn Wehrens, September 2025*\n",
    "\n",
    "## Chapter I: Preface & Introduction"
   ]
  },
  {
   "cell_type": "markdown",
   "id": "09cf9f70",
   "metadata": {},
   "source": [
    "## Preface"
   ]
  },
  {
   "cell_type": "markdown",
   "id": "d7c89127",
   "metadata": {},
   "source": [
    "\n",
    "### About\n",
    "There exist many good image analysis tutorials. I wrote this one because it's easier to teach my own texts, and it aims to follow the *Carpentries* style code-along.\n",
    "\n",
    "In this workshop, there are chunks of code that are intended to be typed by the instructor, to be projected on a large screen. Workshop participants should type along, in order to get \"hands on\" experience.\n",
    "\n",
    "In addition, there are exercise parts, which participants can do on their own, supervised by the instructor.\n"
   ]
  },
  {
   "cell_type": "markdown",
   "id": "e372b22a",
   "metadata": {},
   "source": [
    "### Requirements\n",
    "\n",
    "We require you to have:\n",
    "- A working conda environment with python installed.\n",
    "- The software \"FIJI\" ([link](https://imagej.net/software/fiji/)).\n",
    "- And editor in which you can edit and run python code.\n",
    "- The libraries listed below installed.\n",
    "- Download the images below\n",
    "\n",
    "#### Libraries to install\n",
    "\n",
    "<font size=16 color=red>FINISH THIS:</font>\n",
    "\n",
    "```\n",
    "# Libraries to install\n",
    "XXX TO DO LIBRARY LIST XXX\n",
    "```\n",
    "\n",
    "See [this blog post](https://www.biodsc.nl/posts/installing_conda_python.html) to find out how to install Conda and an editor.\n",
    "\n",
    "#### Images to download\n",
    "\n",
    "```\n",
    "XXXX ARRANGE THIS XXXX\n",
    "```\n",
    "\n",
    "#### Contact us\n",
    "\n",
    "In case of any problems, please do contact us (info@biodsc.nl)!"
   ]
  },
  {
   "cell_type": "markdown",
   "id": "1bd95179",
   "metadata": {},
   "source": [
    "### Course outline\n",
    "\n",
    "#### Day 1\n",
    "- Chapter 1: Introduction (**10 mins**)\n",
    "- Chapter 2 (**60 mins**): \n",
    "    - What is an image\n",
    "    - Reading & writing images\n",
    "    - Displaying images\n",
    "    - Basic modifications to images\n",
    "- *(20 minute break)*\n",
    "- Chapter 3 (**120 mins**): detecting image features\n",
    "    - (..)\n",
    "    - Napari\n",
    "    \n",
    "#### Day 2\n",
    "- Data processing pipelines\n",
    "- Machine learning\n",
    "- Good coding practices\n",
    "    - Documentation\n",
    "    - Version control\n",
    "    - Modularity\n",
    "    - Reproduction packages\n",
    "\n",
    "\n",
    "<font size=16 color=red>^FINISH THIS!</font>"
   ]
  },
  {
   "cell_type": "markdown",
   "id": "cbccc423",
   "metadata": {},
   "source": [
    "\n",
    "### Source materials\n",
    "\n",
    "This course is (very loosely) based on https://bioimagebook.github.io/, which is available under the [Creative Commons license](https://creativecommons.org/licenses/by/4.0/).\n",
    "\n",
    "We'll be using two example image sets for this tutorial, plus some additional single examples. Those two sets come from:\n",
    "\n",
    "- Sergei Chavez-Abiega et al. (2022), \"Single-cell imaging of ERK and Akt activation dynamics and heterogeneity induced by G-protein-coupled receptors\", Journal of Cell Science, https://doi.org/10.1242/jcs.259685\n",
    "- Martijn Wehrens et al. (2018), \"Size Laws and Division Ring Dynamics in Filamentous Escherichia Coli Cells\", Current Biology, https://doi.org/10.1016/j.cub.2018.02.006.\n",
    "\n",
    "\n"
   ]
  },
  {
   "cell_type": "markdown",
   "id": "be5037cf",
   "metadata": {},
   "source": [
    "## Introduction"
   ]
  },
  {
   "cell_type": "markdown",
   "id": "346e002a",
   "metadata": {},
   "source": [
    "### Why use python to analyze images?\n",
    "\n",
    "(Ask participants what they think.)\n",
    "\n",
    "- Biological data can be generated at scale\n",
    "\n",
    "- Automated analysis\n",
    "    - Save human labor, scalable\n",
    "    - Transparant, reproducible\n",
    "    - Unbiased\n",
    "\n"
   ]
  },
  {
   "cell_type": "markdown",
   "id": "9ceb5f20",
   "metadata": {},
   "source": []
  }
 ],
 "metadata": {
  "kernelspec": {
   "display_name": "2025_IMG",
   "language": "python",
   "name": "python3"
  },
  "language_info": {
   "codemirror_mode": {
    "name": "ipython",
    "version": 3
   },
   "file_extension": ".py",
   "mimetype": "text/x-python",
   "name": "python",
   "nbconvert_exporter": "python",
   "pygments_lexer": "ipython3",
   "version": "3.12.8"
  }
 },
 "nbformat": 4,
 "nbformat_minor": 5
}
