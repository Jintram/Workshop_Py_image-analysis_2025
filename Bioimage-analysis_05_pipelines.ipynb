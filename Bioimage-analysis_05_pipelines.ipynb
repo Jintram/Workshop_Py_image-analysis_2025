{
 "cells": [
  {
   "cell_type": "markdown",
   "id": "56efa91d",
   "metadata": {},
   "source": [
    "# Workshop Python Image Analysis\n",
    "*Martijn Wehrens, September 2025*\n",
    "\n",
    "**Estimated time:** 120 mins exercises\n",
    "\n",
    "## Chapter 5: Combining building blocks into a pipeline"
   ]
  },
  {
   "cell_type": "markdown",
   "id": "75d3de18",
   "metadata": {},
   "source": [
    "To recap, remember we have seen:\n",
    "\n",
    "- Image **thresholding** creates a **mask**\n",
    "    - This can be **labeled**\n",
    "    - And **regionprops** can be determined.\n",
    "- We can **filter** the image (using labeled image or properties)\n",
    "- We can also *apply* morphology operations\n",
    "    - **transformations**\n",
    "    - **blurring**\n",
    "    - **edge detection**\n",
    "    - and more\n",
    "- We can combine these operations\n",
    "- We can combine images using numpy operations, \n",
    "    - **np.logical_and**, np.logical_or, np.isin, etc..\n",
    "- There are more specialized algorithms that can do similar things\n",
    "    - Explore documentation/materials at:\n",
    "        - Scikit documentation: https://scikit-image.org/docs/stable/api/skimage.morphology.html\n",
    "        - Scikit tutorials: https://scikit-image.org/docs/stable/auto_examples/index.html#morphology\n",
    "        - Scipy documentation, e.g. for ndimage: https://docs.scipy.org/doc/scipy/reference/ndimage.html\n",
    "- We didn't cover advanced topics, and leave those to avid learners, such as:\n",
    "    - Fourier transform\n",
    "    - Deconvolution\n",
    "    - ..    \n",
    "- Explore more materials at:\n",
    "    - https://bioimagebook.github.io/\n",
    "    - https://haesleinhuepf.github.io/BioImageAnalysisNotebooks/intro.html\n",
    "\n",
    "        "
   ]
  },
  {
   "cell_type": "markdown",
   "id": "24a83fb8",
   "metadata": {},
   "source": [
    "## Automation\n",
    "\n",
    "To automate a pipeline, the following components are useful:\n",
    "\n",
    "- Loops\n",
    "- Functions\n",
    "    - *Try to code in a modular fashion!*\n",
    "- Interaction with the filesystem using:\n",
    "    - `os`, `glob.glob`\n",
    "\n",
    "*These topics were covered in our previous \"Introduction to Python\" course.*"
   ]
  },
  {
   "cell_type": "markdown",
   "id": "15a52b78",
   "metadata": {},
   "source": [
    "## Guided exercises\n",
    "\n",
    "\n",
    "### Bacterial data\n",
    "\n",
    "Similarly, design a pipeline such that:\n",
    "\n",
    "- For all bacterial data, the images get segmented. \n",
    "    - It might be convenient to store the segmentation masks somewhere, use `np.savez_compressed` or similar.\n",
    "- Plot the observed bacterial areas over time.\n",
    "\n",
    "*Likely your segmentation won't be perfect. In the manuscript, the algorithm was tweaked and segmentation manually corrected and curated. This is an exercise. Don't try to do a perfect job. Use a segmentation function based on chapter 3, and have that loop over the images.*\n",
    "\n",
    "### Nuclear data\n",
    "\n",
    "Design a pipeline such that:\n",
    "\n",
    "- For each frame, the nuclei get segmented.\n",
    "    - It might be convenient to store the segmentation masks somewhere, use `np.savez_compressed` or similar.\n",
    "    \n",
    "- First, for a single image try to do the following:\n",
    "    - Combine data from the segmentation masks and the other fluorescent channels.\n",
    "        - In the 2nd (ie channel 1) fluorescent channel, the KTR signal is recorded.\n",
    "            - You can open the data in FIJI to check.\n",
    "        - Using your nuclear mask based on the channel 0, calculate the mean signal for each respective nuclei.\n",
    "- Can you now extract the nuclear KTR signals from nuclei for multiple images? And plot this over time?\n",
    "\n",
    "- Next, use morphology operations to create a mask that corresponds to a small ring of pixels around the nuclei (ie overlapping with cytoplasm, but excluding the nucleus itself).\n",
    "    - Now extract the signal from those regions as well.\n",
    "    - Plot this signal too.\n",
    "    \n",
    "- Now for each time t, determine the average nuclear and cytoplasmic signal.\n",
    "- Plot the nuclear:cytoplasmic ratio over time.\n",
    "- Can you guess what was done in this experiment?\n",
    "    \n"
   ]
  },
  {
   "cell_type": "markdown",
   "id": "7b8f9396",
   "metadata": {},
   "source": []
  }
 ],
 "metadata": {
  "kernelspec": {
   "display_name": "2025_IMG",
   "language": "python",
   "name": "python3"
  },
  "language_info": {
   "codemirror_mode": {
    "name": "ipython",
    "version": 3
   },
   "file_extension": ".py",
   "mimetype": "text/x-python",
   "name": "python",
   "nbconvert_exporter": "python",
   "pygments_lexer": "ipython3",
   "version": "3.12.8"
  }
 },
 "nbformat": 4,
 "nbformat_minor": 5
}
