{
 "cells": [
  {
   "cell_type": "markdown",
   "id": "56efa91d",
   "metadata": {},
   "source": [
    "# Workshop Python Image Analysis\n",
    "*Martijn Wehrens, September 2025*\n",
    "\n",
    "**Estimated time:** XX mins presenting + YY mins exercises\n",
    "\n",
    "## Chapter 4: Combining building blocks into a pipeline"
   ]
  },
  {
   "cell_type": "markdown",
   "id": "75d3de18",
   "metadata": {},
   "source": [
    "To recap, remember we have seen:\n",
    "\n",
    "- Image **thresholding** creates a **mask**\n",
    "    - This can be **labeled**\n",
    "    - And **regionprops** can be determined.\n",
    "- We can **filter** the image (using labeled image or properties)\n",
    "- We can also *apply* morphology operations\n",
    "    - **transformations**\n",
    "    - **blurring**\n",
    "    - **edge detection**\n",
    "    - and more\n",
    "- We can combine these operations\n",
    "- We can combine images using numpy operations, \n",
    "    - **np.logical_and**, np.logical_or, np.isin, etc..\n",
    "- There are more specialized algorithms that can do similar things\n",
    "    - Explore documentation/materials at:\n",
    "        - Scikit documentation: https://scikit-image.org/docs/stable/api/skimage.morphology.html\n",
    "        - Scikit tutorials: https://scikit-image.org/docs/stable/auto_examples/index.html#morphology\n",
    "        - Scipy documentation, e.g. for ndimage: https://docs.scipy.org/doc/scipy/reference/ndimage.html\n",
    "- We didn't cover advanced topics, and leave those to avid learners, such as:\n",
    "    - Fourier transform\n",
    "    - Deconvolution\n",
    "    - ..    \n",
    "- Explore more materials at:\n",
    "    - https://bioimagebook.github.io/\n",
    "    - https://haesleinhuepf.github.io/BioImageAnalysisNotebooks/intro.html\n",
    "\n",
    "        "
   ]
  },
  {
   "cell_type": "markdown",
   "id": "7b8f9396",
   "metadata": {},
   "source": []
  }
 ],
 "metadata": {
  "kernelspec": {
   "display_name": "2025_IMG",
   "language": "python",
   "name": "python3"
  },
  "language_info": {
   "codemirror_mode": {
    "name": "ipython",
    "version": 3
   },
   "file_extension": ".py",
   "mimetype": "text/x-python",
   "name": "python",
   "nbconvert_exporter": "python",
   "pygments_lexer": "ipython3",
   "version": "3.12.8"
  }
 },
 "nbformat": 4,
 "nbformat_minor": 5
}
